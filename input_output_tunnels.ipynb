{
 "cells": [
  {
   "cell_type": "code",
   "execution_count": 1,
   "id": "2a103f8f",
   "metadata": {},
   "outputs": [],
   "source": [
    "file = open(\"prototype2.circ\", \"r\")\n",
    "contents = file.readlines()\n",
    "file.close()"
   ]
  },
  {
   "cell_type": "code",
   "execution_count": 2,
   "id": "6ab21dde",
   "metadata": {},
   "outputs": [],
   "source": [
    "from parse import *\n",
    "class Wires:\n",
    "    def __init__(self, offset_x, offset_y, step_x, step_y):\n",
    "        self.offset_x = offset_x\n",
    "        self.offset_y = offset_y\n",
    "        self.step_x = step_x\n",
    "        self.step_y = step_y\n",
    "    \n",
    "    def parse_from_lines(self, lines):\n",
    "        coords_names = []\n",
    "        for line in lines:\n",
    "            res = parse('    <wire from=\"({},{})\" to=\"({},{})\"/>\\n', line)\n",
    "            if res:\n",
    "                coords_names.append(res.fixed)\n",
    "        self.wires = [(int(a), int(b), int(c), int(d)) for a, b, c, d in coords_names]\n",
    "    \n",
    "    def offset(self, offset_x, offset_y):\n",
    "        self.offset_x += offset_x\n",
    "        self.offset_y += offset_y\n",
    "\n",
    "    def to_list(self, i, j):\n",
    "        get_x = lambda x: x + self.offset_x + i*self.step_x\n",
    "        get_y = lambda y: y + self.offset_y + j*self.step_y\n",
    "        return [f'      <wire from=\"({get_x(x[0])},{get_y(x[1])})\" to=\"({get_x(x[2])},{get_y(x[3])})\"/>\\n' for x in self.wires]"
   ]
  },
  {
   "cell_type": "code",
   "execution_count": 3,
   "id": "f3f21183",
   "metadata": {},
   "outputs": [],
   "source": [
    "class Tunnels:\n",
    "    def __init__(self, offset_x, offset_y, step_x, step_y):\n",
    "        self.offset_x = offset_x\n",
    "        self.offset_y = offset_y\n",
    "        self.step_x = step_x\n",
    "        self.step_y = step_y\n",
    "    \n",
    "    def parse_from_lines(self, lines):\n",
    "        coords_names = []\n",
    "        orientations = []\n",
    "        in_tunnel = False\n",
    "        for line in lines:\n",
    "            res = parse('    <comp lib=\"0\" loc=\"({},{})\" name=\"Tunnel\">\\n', line)\n",
    "            if res:\n",
    "                if len(orientations) < len(coords_names):\n",
    "                    orientations.append(\"west\")\n",
    "                coords_names.append(res.fixed)\n",
    "                in_tunnel = True\n",
    "            if line == '    </comp>':\n",
    "                in_tunnel = False\n",
    "                \n",
    "            orientation = parse('      <a name=\"facing\" val=\"{}\"/>\\n', line)\n",
    "            if in_tunnel and orientation:\n",
    "                orientations.append(orientation.fixed[0])\n",
    "        if len(orientations) < len(coords_names):\n",
    "            orientations.append(\"west\")\n",
    "                \n",
    "        self.tunnels = sorted([(int(a), int(b), o) for (a, b), o in zip(coords_names, orientations)], key=lambda x: x[1])\n",
    "    \n",
    "    def offset(self, offset_x, offset_y):\n",
    "        self.offset_x += offset_x\n",
    "        self.offset_y += offset_y\n",
    "\n",
    "    def to_list(self, i, j, name):\n",
    "        get_x = lambda x: x + self.offset_x + i*self.step_x\n",
    "        get_y = lambda y: y + self.offset_y + j*self.step_y\n",
    "        return [f\"\"\"<comp lib=\"0\" loc=\"({get_x(x)},{get_y(y)})\" name=\"Tunnel\">\n",
    "      <a name=\"facing\" val=\"{orient}\"/>\n",
    "      <a name=\"label\" val=\"{name(orient, index)}\"/>\n",
    "      <a name=\"labelfont\" val=\"SansSerif plain 9\"/>\n",
    "    </comp>\\n\"\"\" for index, (x, y, orient) in enumerate(self.tunnels)]"
   ]
  },
  {
   "cell_type": "code",
   "execution_count": 4,
   "id": "29442db0",
   "metadata": {},
   "outputs": [],
   "source": [
    "start_x = 160\n",
    "start_y = 440\n",
    "step_x = 380\n",
    "step_y = 850\n",
    "\n",
    "pins_wires = Wires(0, 0, step_x, step_y)\n",
    "pins_wires.parse_from_lines(contents[6306:6399])\n",
    "pins_tunnels = Tunnels(0, 0, step_x, step_y)\n",
    "pins_tunnels.parse_from_lines(contents[6306:])"
   ]
  },
  {
   "cell_type": "code",
   "execution_count": 5,
   "id": "9c017a08",
   "metadata": {},
   "outputs": [],
   "source": [
    "circuit = []\n",
    "for i in range(32):\n",
    "    circuit += f\"\"\"    <comp lib=\"0\" loc=\"({start_x+i*step_x},{start_y})\" name=\"Splitter\">\n",
    "      <a name=\"fanout\" val=\"32\"/>\n",
    "      <a name=\"incoming\" val=\"32\"/>\n",
    "      <a name=\"appear\" val=\"center\"/>\n",
    "    </comp>\\n\"\"\"\n",
    "    circuit += f\"\"\"    <comp lib=\"0\" loc=\"({start_x+i*step_x},{start_y})\" name=\"Pin\">\n",
    "      <a name=\"width\" val=\"32\"/>\n",
    "      <a name=\"tristate\" val=\"false\"/>\n",
    "      <a name=\"label\" val=\"row{i}\"/>\n",
    "    </comp>\\n\"\"\"\n",
    "    circuit += pins_wires.to_list(i, 0)\n",
    "    circuit += pins_tunnels.to_list(i, 0, lambda _, index: f\"cell{i}_{index}\")"
   ]
  },
  {
   "cell_type": "code",
   "execution_count": 6,
   "id": "72af3f4a",
   "metadata": {},
   "outputs": [],
   "source": [
    "for i in range(32):\n",
    "    circuit += f\"\"\"    <comp lib=\"0\" loc=\"({start_x+i*step_x},{start_y+step_y})\" name=\"Splitter\">\n",
    "      <a name=\"fanout\" val=\"32\"/>\n",
    "      <a name=\"incoming\" val=\"32\"/>\n",
    "      <a name=\"appear\" val=\"center\"/>\n",
    "    </comp>\\n\"\"\"\n",
    "    circuit += f\"\"\"    <comp lib=\"0\" loc=\"({start_x+i*step_x},{start_y+step_y})\" name=\"Pin\">\n",
    "      <a name=\"output\" val=\"true\"/>\n",
    "      <a name=\"width\" val=\"32\"/>\n",
    "      <a name=\"tristate\" val=\"false\"/>\n",
    "      <a name=\"label\" val=\"orow{i}\"/>\n",
    "    </comp>\\n\"\"\"\n",
    "    circuit += pins_wires.to_list(i, 1)\n",
    "    circuit += pins_tunnels.to_list(i, 1, lambda _, index: f\"ocell{i}_{index}\")\n"
   ]
  },
  {
   "cell_type": "code",
   "execution_count": 7,
   "id": "0a936f91",
   "metadata": {},
   "outputs": [],
   "source": [
    "import generate\n",
    "generate.rewrite_circuit(circuit)"
   ]
  },
  {
   "cell_type": "code",
   "execution_count": 8,
   "id": "4826d665",
   "metadata": {},
   "outputs": [],
   "source": [
    "file = open(\"prototype_corner.circ\", \"r\")\n",
    "corner_contents = file.readlines()\n",
    "file.close()"
   ]
  },
  {
   "cell_type": "code",
   "execution_count": 9,
   "id": "4502f64c",
   "metadata": {},
   "outputs": [],
   "source": [
    "offset_x = 0\n",
    "offset_y = 1400\n",
    "step_x = 150\n",
    "step_y = 150\n",
    "\n",
    "corner_wires = Wires(offset_x, offset_y, step_x, step_y)\n",
    "corner_wires.parse_from_lines(corner_contents[6306:])\n",
    "corner_tunnels = Tunnels(offset_x, offset_y, step_x, step_y)\n",
    "corner_tunnels.parse_from_lines(corner_contents[6306:])"
   ]
  },
  {
   "cell_type": "code",
   "execution_count": 10,
   "id": "e9c31124",
   "metadata": {},
   "outputs": [],
   "source": [
    "from itertools import product\n",
    "neighbors = lambda x, y: [(x+i, y+j) for i, j in product(range(-1, 2), range(-1, 2)) if abs(i)+abs(j) < 2]\n",
    "valid_coord = lambda coords: coords[0] >= 0 and coords[1] >= 0 and coords[0] <= 31 and coords[1] <= 31\n",
    "for i in [0, 31]:\n",
    "    for j in [0, 31]:\n",
    "        cell_neighbors = list(map(lambda x: f\"{x[0]}_{x[1]}\", filter(valid_coord, neighbors(j, i))))\n",
    "        circuit += corner_wires.to_list(i, j)\n",
    "        circuit += corner_tunnels.to_list(i, j, lambda orient, index: f\"ocell{j}_{i}\" if orient == \"west\" else f\"cell{cell_neighbors.pop()}\")\n",
    "        circuit += f\"\"\"     <comp lib=\"1\" loc=\"({220+offset_x+j*step_x},{250+offset_y+i*step_y})\" name=\"OR Gate\">\n",
    "      <a name=\"size\" val=\"30\"/>\n",
    "      <a name=\"inputs\" val=\"3\"/>\n",
    "    </comp>\\n\"\"\"\n"
   ]
  },
  {
   "cell_type": "code",
   "execution_count": 11,
   "id": "6361b295",
   "metadata": {},
   "outputs": [],
   "source": [
    "import generate\n",
    "generate.rewrite_circuit(circuit)"
   ]
  },
  {
   "cell_type": "code",
   "execution_count": 12,
   "id": "372609a4",
   "metadata": {},
   "outputs": [],
   "source": [
    "file = open(\"prototype_edge.circ\", \"r\")\n",
    "edge_contents = file.readlines()\n",
    "file.close()"
   ]
  },
  {
   "cell_type": "code",
   "execution_count": 13,
   "id": "729777a8",
   "metadata": {},
   "outputs": [],
   "source": [
    "edge_wires = Wires(offset_x, offset_y, step_x, step_y)\n",
    "edge_wires.parse_from_lines(edge_contents[6306:])\n",
    "edge_tunnels = Tunnels(offset_x, offset_y, step_x, step_y)\n",
    "edge_tunnels.parse_from_lines(edge_contents[6306:])"
   ]
  },
  {
   "cell_type": "code",
   "execution_count": 14,
   "id": "479f8060",
   "metadata": {},
   "outputs": [],
   "source": [
    "for i in [0, 31]:\n",
    "    for j in range(1, 31):\n",
    "        cell_neighbors = list(map(lambda x: f\"{x[0]}_{x[1]}\", filter(valid_coord, neighbors(j, i))))\n",
    "        circuit += edge_wires.to_list(i, j)\n",
    "        circuit += edge_tunnels.to_list(i, j, lambda orient, index: f\"ocell{j}_{i}\" if orient == \"west\" else f\"cell{cell_neighbors.pop()}\")\n",
    "        circuit += f\"\"\"     <comp lib=\"1\" loc=\"({220+offset_x+j*step_x},{250+offset_y+i*step_y})\" name=\"OR Gate\">\n",
    "      <a name=\"size\" val=\"30\"/>\n",
    "      <a name=\"inputs\" val=\"4\"/>\n",
    "    </comp>\\n\"\"\"\n",
    "for i in range(1, 31):\n",
    "    for j in [0, 31]:\n",
    "        cell_neighbors = list(map(lambda x: f\"{x[0]}_{x[1]}\", filter(valid_coord, neighbors(j, i))))\n",
    "        circuit += edge_wires.to_list(i, j)\n",
    "        circuit += edge_tunnels.to_list(i, j, lambda orient, index: f\"ocell{j}_{i}\" if orient == \"west\" else f\"cell{cell_neighbors.pop()}\")\n",
    "        circuit += f\"\"\"     <comp lib=\"1\" loc=\"({220+offset_x+j*step_x},{250+offset_y+i*step_y})\" name=\"OR Gate\">\n",
    "      <a name=\"size\" val=\"30\"/>\n",
    "      <a name=\"inputs\" val=\"4\"/>\n",
    "    </comp>\\n\"\"\""
   ]
  },
  {
   "cell_type": "code",
   "execution_count": 15,
   "id": "2f0ffab3",
   "metadata": {},
   "outputs": [],
   "source": [
    "import generate\n",
    "generate.rewrite_circuit(circuit)"
   ]
  },
  {
   "cell_type": "code",
   "execution_count": 16,
   "id": "057b9392",
   "metadata": {},
   "outputs": [],
   "source": [
    "file = open(\"prototype_center.circ\", \"r\")\n",
    "center_contents = file.readlines()\n",
    "file.close()"
   ]
  },
  {
   "cell_type": "code",
   "execution_count": 17,
   "id": "5a190568",
   "metadata": {},
   "outputs": [],
   "source": [
    "center_wires = Wires(offset_x, offset_y, step_x, step_y)\n",
    "center_wires.parse_from_lines(center_contents[6306:])\n",
    "center_tunnels = Tunnels(offset_x, offset_y, step_x, step_y)\n",
    "center_tunnels.parse_from_lines(center_contents[6306:])"
   ]
  },
  {
   "cell_type": "code",
   "execution_count": 18,
   "id": "756bdb70",
   "metadata": {},
   "outputs": [],
   "source": [
    "for i in range(1, 31):\n",
    "    for j in range(1, 31):\n",
    "        cell_neighbors = list(map(lambda x: f\"{x[0]}_{x[1]}\", filter(valid_coord, neighbors(j, i))))\n",
    "        circuit += center_wires.to_list(i, j)\n",
    "        circuit += center_tunnels.to_list(i, j, lambda orient, index: f\"ocell{j}_{i}\" if orient == \"west\" else f\"cell{cell_neighbors.pop()}\")\n",
    "        circuit += f\"\"\"     <comp lib=\"1\" loc=\"({220+offset_x+j*step_x},{250+offset_y+i*step_y})\" name=\"OR Gate\">\n",
    "      <a name=\"size\" val=\"30\"/>\n",
    "      <a name=\"inputs\" val=\"5\"/>\n",
    "    </comp>\\n\"\"\""
   ]
  },
  {
   "cell_type": "code",
   "execution_count": 19,
   "id": "de22077a",
   "metadata": {},
   "outputs": [],
   "source": [
    "import generate\n",
    "generate.rewrite_circuit(circuit)"
   ]
  }
 ],
 "metadata": {
  "kernelspec": {
   "display_name": "Python 3 (ipykernel)",
   "language": "python",
   "name": "python3"
  },
  "language_info": {
   "codemirror_mode": {
    "name": "ipython",
    "version": 3
   },
   "file_extension": ".py",
   "mimetype": "text/x-python",
   "name": "python",
   "nbconvert_exporter": "python",
   "pygments_lexer": "ipython3",
   "version": "3.11.2"
  }
 },
 "nbformat": 4,
 "nbformat_minor": 5
}
